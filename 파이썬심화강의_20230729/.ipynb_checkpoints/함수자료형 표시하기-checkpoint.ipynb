{
 "cells": [
  {
   "cell_type": "code",
   "execution_count": 1,
   "id": "991cb5c8",
   "metadata": {},
   "outputs": [],
   "source": [
    "import platform"
   ]
  },
  {
   "cell_type": "code",
   "execution_count": 2,
   "id": "e771c98c",
   "metadata": {},
   "outputs": [
    {
     "data": {
      "text/plain": [
       "'3.11.3'"
      ]
     },
     "execution_count": 2,
     "metadata": {},
     "output_type": "execute_result"
    }
   ],
   "source": [
    "platform.python_version()"
   ]
  },
  {
   "cell_type": "code",
   "execution_count": null,
   "id": "f3f37492",
   "metadata": {},
   "outputs": [],
   "source": []
  },
  {
   "cell_type": "markdown",
   "id": "5e799701",
   "metadata": {},
   "source": [
    "## 함수 자료형 표시하기 "
   ]
  },
  {
   "cell_type": "code",
   "execution_count": null,
   "id": "177b0d12",
   "metadata": {},
   "outputs": [],
   "source": [
    "from typing import Callable"
   ]
  },
  {
   "cell_type": "code",
   "execution_count": 4,
   "id": "dc0074db",
   "metadata": {},
   "outputs": [],
   "source": [
    "def perform_operation(operation: Callable[[int, int], int], a: int, b: int) -> int:\n",
    "    result = operation(a, b)\n",
    "    return result"
   ]
  },
  {
   "cell_type": "code",
   "execution_count": 5,
   "id": "970def6e",
   "metadata": {},
   "outputs": [],
   "source": [
    "def add(x: int, y: int) -> int:\n",
    "    return x + y\n",
    "\n",
    "def multiply(x: int, y: int) -> int:\n",
    "    return x * y"
   ]
  },
  {
   "cell_type": "code",
   "execution_count": 6,
   "id": "79abcd3a",
   "metadata": {},
   "outputs": [
    {
     "name": "stdout",
     "output_type": "stream",
     "text": [
      "8\n",
      "15\n"
     ]
    }
   ],
   "source": [
    "# perform_operation 함수에 add 함수 전달\n",
    "add_result = perform_operation(add, 3, 5)\n",
    "print(add_result)  # 출력: 8\n",
    "\n",
    "# perform_operation 함수에 multiply 함수 전달\n",
    "multiply_result = perform_operation(multiply, 3, 5)\n",
    "print(multiply_result)  # 출력: 15"
   ]
  },
  {
   "cell_type": "code",
   "execution_count": null,
   "id": "c7c55c0f",
   "metadata": {},
   "outputs": [],
   "source": []
  }
 ],
 "metadata": {
  "kernelspec": {
   "display_name": "Python 3 (ipykernel)",
   "language": "python",
   "name": "python3"
  },
  "language_info": {
   "codemirror_mode": {
    "name": "ipython",
    "version": 3
   },
   "file_extension": ".py",
   "mimetype": "text/x-python",
   "name": "python",
   "nbconvert_exporter": "python",
   "pygments_lexer": "ipython3",
   "version": "3.11.3"
  }
 },
 "nbformat": 4,
 "nbformat_minor": 5
}
