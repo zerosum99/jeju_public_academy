{
 "cells": [
  {
   "cell_type": "code",
   "execution_count": 1,
   "metadata": {},
   "outputs": [
    {
     "name": "stdout",
     "output_type": "stream",
     "text": [
      "3.11.3 | packaged by conda-forge | (main, Apr  6 2023, 08:58:31) [Clang 14.0.6 ]\n"
     ]
    }
   ],
   "source": [
    "import sys\n",
    "\n",
    "print(sys.version)"
   ]
  },
  {
   "cell_type": "code",
   "execution_count": null,
   "metadata": {},
   "outputs": [],
   "source": []
  },
  {
   "cell_type": "markdown",
   "metadata": {},
   "source": [
    "# 1. 데코레이터(Decorator)\n",
    "\n",
    "### 파이썬 데코레이터(Decorator)\n",
    "\n",
    "- 파이썬의 고급 기능 중 하나로, 다른 함수나 클래스를 수정하거나 확장하는 데 사용됩니다. \n",
    "- 데코레이터는 기존의 코드를 수정하지 않고도 기능을 추가하거나 변경할 수 있는 강력한 도구입니다. \n",
    "\n",
    "\n",
    "### 데코레이터는 다음과 같은 특징을 가지고 있습니다:\n",
    "\n",
    "#### 함수나 클래스를 수정: \n",
    "- 데코레이터는 함수나 클래스의 정의를 수정하거나 기능을 추가할 수 있습니다. \n",
    "- 데코레이터를 사용하여 코드의 재사용성을 높이고 중복을 줄일 수 있습니다.\n",
    "\n",
    "#### 문법적으로 편리: \n",
    "- 데코레이터는 @ 기호를 사용하여 함수나 클래스 위에 적용됩니다. \n",
    "- 이로 인해 코드의 가독성을 높이고, 데코레이터를 쉽게 사용할 수 있습니다.\n",
    "\n",
    "### 중첩 가능: \n",
    "- 데코레이터는 중첩하여 사용할 수 있습니다. \n",
    "- 여러 개의 데코레이터를 동시에 적용하면, 각 데코레이터가 차례대로 실행되며 함수나 클래스를 수정합니다.\n",
    "\n",
    "#### 함수나 클래스의 메타데이터 수정: \n",
    "- 데코레이터는 함수나 클래스의 메타데이터를 수정할 수 있습니다. \n",
    "- 예를 들어, 함수의 이름, 독스트링, 속성 등을 변경하거나 추가할 수 있습니다.\n",
    "\n",
    "#### 재사용성: \n",
    "- 데코레이터는 여러 함수나 클래스에 대해 재사용할 수 있습니다. \n",
    "- 데코레이터를 작성하여 여러 함수나 클래스에 일관된 기능을 적용할 수 있습니다.\n",
    "\n",
    "#### 동적으로 적용 가능: \n",
    "- 데코레이터는 함수나 클래스의 실행 전후에 코드를 실행할 수 있습니다. \n",
    "- 이를 통해 예외 처리, 로깅, 인증 등의 기능을 동적으로 적용할 수 있습니다."
   ]
  },
  {
   "cell_type": "markdown",
   "metadata": {},
   "source": [
    "# 1.1 데코레이터  기본 알아보기 "
   ]
  },
  {
   "cell_type": "markdown",
   "metadata": {},
   "source": [
    "###  데코레이터 함수를 정의\n",
    "- 하나의 매개변수는 함수를 받는다.\n",
    "- 함수를 그대로 전달한다."
   ]
  },
  {
   "cell_type": "code",
   "execution_count": 2,
   "metadata": {},
   "outputs": [],
   "source": [
    "def func(func_) :\n",
    "    return func_"
   ]
  },
  {
   "cell_type": "markdown",
   "metadata": {},
   "source": [
    "### 실행함수는 원래 기능을 처리하도록 함수 정의 "
   ]
  },
  {
   "cell_type": "code",
   "execution_count": 3,
   "metadata": {},
   "outputs": [],
   "source": [
    "def add(x,y) :\n",
    "    return x +y"
   ]
  },
  {
   "cell_type": "markdown",
   "metadata": {},
   "source": [
    "### 데코레이터 함수에 실행함수를 전달한다. \n",
    "\n",
    "- 데코레이터 함수에 실행함수를 인자로 전달한다.\n",
    "- 데코레이터 함수의 결과를 변수에 할당\n",
    "- 변수에 할당된 함수를 실행한다. "
   ]
  },
  {
   "cell_type": "code",
   "execution_count": 4,
   "metadata": {},
   "outputs": [],
   "source": [
    "f = func(add)"
   ]
  },
  {
   "cell_type": "markdown",
   "metadata": {},
   "source": [
    "### 함수를 호출하면 실행함수가 전달되어서 두 수를 더한다. "
   ]
  },
  {
   "cell_type": "code",
   "execution_count": 5,
   "metadata": {},
   "outputs": [
    {
     "data": {
      "text/plain": [
       "30"
      ]
     },
     "execution_count": 5,
     "metadata": {},
     "output_type": "execute_result"
    }
   ],
   "source": [
    "f(10,20)"
   ]
  },
  {
   "cell_type": "code",
   "execution_count": null,
   "metadata": {},
   "outputs": [],
   "source": []
  },
  {
   "cell_type": "markdown",
   "metadata": {},
   "source": [
    "## 1-2 데코레이터 :  내부함수를 반환 하기 \n",
    "\n",
    "### 데코레이터 내부의 함수를 정의하고 반환\n",
    "- 매개변수로 전달된 함수는 아무런 변화없이 실행\n",
    "- 그래서 특정 기능 등을 추가하는 공통적인 함수를 만들 수 있다. "
   ]
  },
  {
   "cell_type": "markdown",
   "metadata": {},
   "source": [
    "### 데코레이터 함수의 내부에 내부함수 정의하고 이를 반환처리"
   ]
  },
  {
   "cell_type": "code",
   "execution_count": 6,
   "metadata": {},
   "outputs": [],
   "source": [
    "def dec(func):\n",
    "    print(\"a\")\n",
    "    def new_func():         # 내부함수 정의 \n",
    "        print('A')\n",
    "        return func()       # 내부함수 내에서 인자로 전달된 함수를 실행한 후에 반환 \n",
    "    return new_func         # 내부함수 반환 "
   ]
  },
  {
   "cell_type": "markdown",
   "metadata": {},
   "source": [
    "### 실행함수를 정의하기 "
   ]
  },
  {
   "cell_type": "code",
   "execution_count": null,
   "metadata": {},
   "outputs": [],
   "source": [
    "def add() :\n",
    "    return 10"
   ]
  },
  {
   "cell_type": "markdown",
   "metadata": {},
   "source": [
    "### 데코레이터 처리하고 실행하기 "
   ]
  },
  {
   "cell_type": "code",
   "execution_count": 8,
   "metadata": {},
   "outputs": [
    {
     "name": "stdout",
     "output_type": "stream",
     "text": [
      "a\n"
     ]
    }
   ],
   "source": [
    "add = dec(add)"
   ]
  },
  {
   "cell_type": "markdown",
   "metadata": {},
   "source": [
    "### 반환된 내부함수를 실행하면 인자로 전달된 실행함수 결과를 반환"
   ]
  },
  {
   "cell_type": "code",
   "execution_count": 9,
   "metadata": {},
   "outputs": [
    {
     "name": "stdout",
     "output_type": "stream",
     "text": [
      "A\n"
     ]
    },
    {
     "data": {
      "text/plain": [
       "10"
      ]
     },
     "execution_count": 9,
     "metadata": {},
     "output_type": "execute_result"
    }
   ],
   "source": [
    "add()"
   ]
  },
  {
   "cell_type": "markdown",
   "metadata": {},
   "source": [
    "## 1-3 테코레이터 표기법 사용하기 \n",
    "\n",
    "\n",
    "### 데코레이터 표기법 \n",
    "\n",
    "- 데코레이터 함수 이름 앞에 @ 표기법 사용\n",
    "- 실행함수 바로 위에 붙여서 데터레이터를 표기 "
   ]
  },
  {
   "cell_type": "markdown",
   "metadata": {},
   "source": [
    "### 데코레이터 함수 정의하기 "
   ]
  },
  {
   "cell_type": "code",
   "execution_count": 10,
   "metadata": {},
   "outputs": [],
   "source": [
    "def dec_1(func):\n",
    "    print(\"a\")\n",
    "    def new_func(*args, **kwargs):\n",
    "        print('A')\n",
    "        return func(*args, **kwargs)\n",
    "    return new_func"
   ]
  },
  {
   "cell_type": "markdown",
   "metadata": {},
   "source": [
    "### 실행함수를 작성하면서 바로 데코레이터 처리하기 "
   ]
  },
  {
   "cell_type": "code",
   "execution_count": 11,
   "metadata": {},
   "outputs": [
    {
     "name": "stdout",
     "output_type": "stream",
     "text": [
      "a\n"
     ]
    }
   ],
   "source": [
    "@dec_1\n",
    "def add_1(x,y) :\n",
    "    return x + y"
   ]
  },
  {
   "cell_type": "markdown",
   "metadata": {},
   "source": [
    "### 함수를 호출하기 "
   ]
  },
  {
   "cell_type": "code",
   "execution_count": 12,
   "metadata": {},
   "outputs": [
    {
     "name": "stdout",
     "output_type": "stream",
     "text": [
      "A\n"
     ]
    },
    {
     "data": {
      "text/plain": [
       "300"
      ]
     },
     "execution_count": 12,
     "metadata": {},
     "output_type": "execute_result"
    }
   ],
   "source": [
    "add_1(100,200)"
   ]
  },
  {
   "cell_type": "code",
   "execution_count": null,
   "metadata": {},
   "outputs": [],
   "source": []
  },
  {
   "cell_type": "markdown",
   "metadata": {},
   "source": [
    "# 2.  여러 개의 데코레이터를 하나의 함수에 처리  \n",
    "\n",
    "### 데코레이터를 여러 개를 탑처럼 쌓아서 처리할 수 있다.\n",
    "- 데코레이터는 여러 개를 실행함수에 연결할 수 있다.\n",
    "- 데코레이터 순서는 밑에 정의한 것부터 차례대로 구성된다.\n"
   ]
  },
  {
   "cell_type": "markdown",
   "metadata": {},
   "source": [
    "## 2-1 여러 개의 데코레이터 처리하기"
   ]
  },
  {
   "cell_type": "markdown",
   "metadata": {},
   "source": [
    "### 3개의 데코레이터 함수를 정의한다\n",
    "\n",
    "- 모든 함수 처리 규칙은 유사하다.\n",
    "- 단지 각 데코레이터 함수에  내부의 출력기능은 다르다. "
   ]
  },
  {
   "cell_type": "code",
   "execution_count": 13,
   "metadata": {},
   "outputs": [],
   "source": [
    "def a(func):\n",
    "    print(\"a\")\n",
    "    def new_func():\n",
    "        print('A')\n",
    "        func()\n",
    "    return new_func\n",
    "\n",
    "\n",
    "def b(func):\n",
    "    print(\"b\")\n",
    "    def new_func():\n",
    "        print('B')\n",
    "        func()\n",
    "    return new_func\n",
    "\n",
    "\n",
    "def c(func):\n",
    "    print(\"c\")\n",
    "    def new_func():\n",
    "        print('C')\n",
    "        func()\n",
    "    return new_func"
   ]
  },
  {
   "cell_type": "markdown",
   "metadata": {},
   "source": [
    "## 2-2 데코레이터 탑을 쌓기 \n",
    "\n",
    "-  공통의 기능을 가진 여러 데코레이터를 작성하고\n",
    "- 이를 실행함수에 지정하면 각 실행함수가 실행되기 전에 데코레이터 함수를 거치면서 기능을 처리함\n"
   ]
  },
  {
   "cell_type": "markdown",
   "metadata": {},
   "source": [
    "### 데코레이터 로딩되는 순서 \n",
    " \n",
    "- 실행함수를 데코레이터 처리하면 데코레이터 탑이 쌓이는 순서대로 로딩됨\n"
   ]
  },
  {
   "cell_type": "code",
   "execution_count": 14,
   "metadata": {},
   "outputs": [
    {
     "name": "stdout",
     "output_type": "stream",
     "text": [
      "c\n",
      "b\n",
      "a\n"
     ]
    }
   ],
   "source": [
    "@a\n",
    "@b \n",
    "@c # <- 우선 적용\n",
    "def func():\n",
    "    pass"
   ]
  },
  {
   "cell_type": "markdown",
   "metadata": {},
   "source": [
    "## 2-3  실행순서 \n",
    "\n",
    "### 데코레이터는 함수가 메모리에 로딩될 때 구성된다.\n",
    "- 실행함수를 호출하면 모든 데코레이터는 순서 즉 로딩의 역순으로 실행된다.\n"
   ]
  },
  {
   "cell_type": "code",
   "execution_count": 15,
   "metadata": {},
   "outputs": [
    {
     "name": "stdout",
     "output_type": "stream",
     "text": [
      "A\n",
      "B\n",
      "C\n"
     ]
    }
   ],
   "source": [
    "func()"
   ]
  },
  {
   "cell_type": "code",
   "execution_count": null,
   "metadata": {},
   "outputs": [],
   "source": []
  },
  {
   "cell_type": "code",
   "execution_count": null,
   "metadata": {},
   "outputs": [],
   "source": []
  },
  {
   "cell_type": "markdown",
   "metadata": {},
   "source": [
    "## 2-4 예전 표기법으로 여러 개의 데코레이터를 함수를 처리\n",
    "\n",
    "### 데코레이터 탑과 역방향으로  함수 호출 방식을 지정\n",
    "\n",
    "- 제일 먼저 데코레이터 처리가 되는 경우는 가장 안에서 호출되는 함수이여야 한다.\n"
   ]
  },
  {
   "cell_type": "code",
   "execution_count": 16,
   "metadata": {},
   "outputs": [
    {
     "name": "stdout",
     "output_type": "stream",
     "text": [
      "c\n",
      "b\n",
      "a\n"
     ]
    }
   ],
   "source": [
    "def func_1():\n",
    "    pass\n",
    "\n",
    "func_1 = a(b(c(func_1))) # 데코레이터 문법 적용시키지 않고 동일한 함수를 생성"
   ]
  },
  {
   "cell_type": "code",
   "execution_count": 17,
   "metadata": {},
   "outputs": [
    {
     "name": "stdout",
     "output_type": "stream",
     "text": [
      "A\n",
      "B\n",
      "C\n"
     ]
    }
   ],
   "source": [
    "func_1()"
   ]
  },
  {
   "cell_type": "markdown",
   "metadata": {},
   "source": [
    "# 3.  정보상실 문제 해결\n",
    "\n",
    "### 실제 정보 상실이 아니라 내부 함수를 반환하므로 실행함수의 정보가 없는 것이다.\n",
    "### 그래서 실행함수의 정보를 외부로 전달할 필요가 있다. \n",
    "\n",
    "- 데코레이터를 구성하면 내부함수가 전달되므로 저장된 실행함수의 정보가 외부에 전달되지 않는다.\n",
    "- 외부함수의 정보를 전달하려면 함수 내의 메타정보를 갱신해야 한다.\n",
    "\n",
    "### 전달해야하는 함수 메타 정보 \n",
    "\n",
    "`__name__`, `__module__`, `__qualname__`, `__doc__`, `__annotations__`\n",
    "\n",
    "* 업데이트\n",
    "\n",
    "`__dict__`\n",
    "\n",
    "* 원본함수 저장\n",
    "\n",
    "`__wrapped__`"
   ]
  },
  {
   "cell_type": "markdown",
   "metadata": {},
   "source": [
    "## 3.1  내부 함수가 전달되어 기존 함수에 대한 정보가 없음\n",
    "\n",
    "- 데코레이터를 처리하면 실행함수가 아닌 내부함수가 전달 된다.\n",
    "- 그래서 실행함수의 정보가 없다"
   ]
  },
  {
   "cell_type": "code",
   "execution_count": 18,
   "metadata": {},
   "outputs": [],
   "source": [
    "def outer(func):\n",
    "    def inner(*args, **kwargs):\n",
    "        print(\"함수가 실행됩니다.\")\n",
    "        return func(*args, **kwargs)\n",
    "    return inner"
   ]
  },
  {
   "cell_type": "code",
   "execution_count": 19,
   "metadata": {},
   "outputs": [],
   "source": [
    "@outer\n",
    "def func_3(a, b, c):\n",
    "    \"\"\"3개의 숫자 또는 Sequence를 받아서 + 연산 후 리턴\"\"\"\n",
    "    return a + b + c"
   ]
  },
  {
   "cell_type": "code",
   "execution_count": 20,
   "metadata": {},
   "outputs": [
    {
     "name": "stdout",
     "output_type": "stream",
     "text": [
      "함수가 실행됩니다.\n"
     ]
    },
    {
     "data": {
      "text/plain": [
       "6"
      ]
     },
     "execution_count": 20,
     "metadata": {},
     "output_type": "execute_result"
    }
   ],
   "source": [
    "func_3(1, 2, 3)"
   ]
  },
  {
   "cell_type": "code",
   "execution_count": 21,
   "metadata": {},
   "outputs": [
    {
     "name": "stdout",
     "output_type": "stream",
     "text": [
      "함수가 실행됩니다.\n"
     ]
    },
    {
     "data": {
      "text/plain": [
       "'abc'"
      ]
     },
     "execution_count": 21,
     "metadata": {},
     "output_type": "execute_result"
    }
   ],
   "source": [
    "func_3('a', 'b', 'c')"
   ]
  },
  {
   "cell_type": "markdown",
   "metadata": {},
   "source": [
    "### 함수의 정보를 확인한다"
   ]
  },
  {
   "cell_type": "code",
   "execution_count": 22,
   "metadata": {},
   "outputs": [
    {
     "data": {
      "text/plain": [
       "'inner'"
      ]
     },
     "execution_count": 22,
     "metadata": {},
     "output_type": "execute_result"
    }
   ],
   "source": [
    "func_3.__name__"
   ]
  },
  {
   "cell_type": "code",
   "execution_count": 23,
   "metadata": {},
   "outputs": [],
   "source": [
    "func_3.__doc__"
   ]
  },
  {
   "cell_type": "code",
   "execution_count": 24,
   "metadata": {},
   "outputs": [
    {
     "data": {
      "text/plain": [
       "'__main__'"
      ]
     },
     "execution_count": 24,
     "metadata": {},
     "output_type": "execute_result"
    }
   ],
   "source": [
    "func_3.__module__"
   ]
  },
  {
   "cell_type": "code",
   "execution_count": 25,
   "metadata": {},
   "outputs": [
    {
     "data": {
      "text/plain": [
       "'outer.<locals>.inner'"
      ]
     },
     "execution_count": 25,
     "metadata": {},
     "output_type": "execute_result"
    }
   ],
   "source": [
    "func_3.__qualname__"
   ]
  },
  {
   "cell_type": "code",
   "execution_count": 26,
   "metadata": {},
   "outputs": [
    {
     "data": {
      "text/plain": [
       "{}"
      ]
     },
     "execution_count": 26,
     "metadata": {},
     "output_type": "execute_result"
    }
   ],
   "source": [
    "func_3.__dict__"
   ]
  },
  {
   "cell_type": "markdown",
   "metadata": {},
   "source": [
    "## 3.2 실행함수 정보를 전달 : wraps 구현\n",
    "\n",
    "### 실행함수를 동기화하고 내부함수를 외부로 반환\n",
    "- 실행함수의 정부를 데코레이터를 사용해서 갱신하기\n"
   ]
  },
  {
   "cell_type": "code",
   "execution_count": 43,
   "metadata": {},
   "outputs": [],
   "source": [
    "from functools import wraps\n",
    "\n",
    "def dec(func):\n",
    "    @wraps(func)                       # 메타 정보 관리\n",
    "    def wrapper(*args, **kwargs):      # *: 가변인자 / **: 키워드인자\n",
    "        result = func(*args, **kwargs)\n",
    "        return result\n",
    "    return wrapper"
   ]
  },
  {
   "cell_type": "code",
   "execution_count": 44,
   "metadata": {},
   "outputs": [],
   "source": [
    "@dec                              # @dec 사용하지 않을 경우: add = dec(add) ; def add(x, y): return x + y ;\n",
    "def add(x, y):\n",
    "    return x + y"
   ]
  },
  {
   "cell_type": "code",
   "execution_count": 45,
   "metadata": {},
   "outputs": [],
   "source": [
    "@dec\n",
    "def multiply(x, y):\n",
    "    return x * y"
   ]
  },
  {
   "cell_type": "code",
   "execution_count": 46,
   "metadata": {},
   "outputs": [
    {
     "name": "stdout",
     "output_type": "stream",
     "text": [
      "10\n"
     ]
    }
   ],
   "source": [
    "print(add(5, 5))"
   ]
  },
  {
   "cell_type": "markdown",
   "metadata": {},
   "source": [
    "### 함수의 정보를 확인하기 실행함수의 정보"
   ]
  },
  {
   "cell_type": "code",
   "execution_count": 47,
   "metadata": {},
   "outputs": [
    {
     "data": {
      "text/plain": [
       "'add'"
      ]
     },
     "execution_count": 47,
     "metadata": {},
     "output_type": "execute_result"
    }
   ],
   "source": [
    "add.__name__"
   ]
  },
  {
   "cell_type": "code",
   "execution_count": 48,
   "metadata": {},
   "outputs": [
    {
     "name": "stdout",
     "output_type": "stream",
     "text": [
      "12\n"
     ]
    }
   ],
   "source": [
    "print(multiply(4, 3))"
   ]
  },
  {
   "cell_type": "code",
   "execution_count": 49,
   "metadata": {},
   "outputs": [
    {
     "data": {
      "text/plain": [
       "'multiply'"
      ]
     },
     "execution_count": 49,
     "metadata": {},
     "output_type": "execute_result"
    }
   ],
   "source": [
    "multiply.__name__"
   ]
  },
  {
   "cell_type": "markdown",
   "metadata": {},
   "source": [
    "## 3-3  데코레이터 함수: 다른 매개변수 정보 전달하기 \n",
    "\n",
    "- 데코레이터를 처리하는 경우 데코레이터에도 별도의 매개변수를 받을 수 있다.\n",
    "- 이때 제일 밖의 함수는 데코레이터의 매개변수를 받고 그 내부 함수부터 함수를 받도록 처리한다."
   ]
  },
  {
   "cell_type": "markdown",
   "metadata": {},
   "source": [
    "### 데코레이터 함수에 특정 정보를 전달\n",
    "\n",
    "- 별도의 함수를 하나 더 만들고 데코레이터 함수를 이 함수의 내부함수로 만든다"
   ]
  },
  {
   "cell_type": "code",
   "execution_count": 34,
   "metadata": {},
   "outputs": [],
   "source": [
    "def make_deco(value):\n",
    "    def outer(func):\n",
    "        def inner(*args, **kwargs):\n",
    "            print(value)\n",
    "            return func(*args, **kwargs)\n",
    "        return inner\n",
    "    return outer"
   ]
  },
  {
   "cell_type": "markdown",
   "metadata": {},
   "source": [
    "### 데코레이터 처리할 때 인자를 전달한다."
   ]
  },
  {
   "cell_type": "code",
   "execution_count": 35,
   "metadata": {},
   "outputs": [],
   "source": [
    "@make_deco('!!!@#!@#!@#!@#$@#$%@!#$%@#$')\n",
    "def func():\n",
    "    print(\"func!!!\")"
   ]
  },
  {
   "cell_type": "markdown",
   "metadata": {},
   "source": [
    "### 함수를 실행하면 데코레이터 처리와 동일\n",
    "\n",
    "- 단 인자로 전달된 정보도 활용됨"
   ]
  },
  {
   "cell_type": "code",
   "execution_count": 36,
   "metadata": {},
   "outputs": [
    {
     "name": "stdout",
     "output_type": "stream",
     "text": [
      "!!!@#!@#!@#!@#$@#$%@!#$%@#$\n",
      "func!!!\n"
     ]
    }
   ],
   "source": [
    "func()"
   ]
  },
  {
   "cell_type": "code",
   "execution_count": null,
   "metadata": {},
   "outputs": [],
   "source": []
  },
  {
   "cell_type": "markdown",
   "metadata": {},
   "source": [
    "# 4. 데코레이터 활용\n",
    "\n",
    "- 특정 기능을 추가할 때 내부 함수에 기능을 추가해서 처리하도록 만든다.\n",
    "\n",
    "### 타입 강제하는 데코레이터\n",
    "\n",
    "```\n",
    "@typecheck(int, int, int)\n",
    "def sum(a, b, c):\n",
    "    return a + b + c\n",
    "\n",
    "\n",
    "sum(1, 2, 3) # 6 \n",
    "sum('a', 'b', 'c') # TypeError\n",
    "```"
   ]
  },
  {
   "cell_type": "markdown",
   "metadata": {},
   "source": [
    "## 4-1 최상위 테코레이터 함수에 인자를 받아서 처리합니다."
   ]
  },
  {
   "cell_type": "code",
   "execution_count": 37,
   "metadata": {},
   "outputs": [],
   "source": [
    "def typecheck(*t_args):# t_args\n",
    "    def outer(func):\n",
    "        def inner(*args, **kwargs):\n",
    "            for i, t_arg in enumerate(t_args):\n",
    "                if t_arg != type(args[i]):\n",
    "                    raise TypeError(\"정확하지 않은 타입입니다.\")\n",
    "            return func(*args, **kwargs)\n",
    "        return inner\n",
    "    return outer"
   ]
  },
  {
   "cell_type": "code",
   "execution_count": 38,
   "metadata": {},
   "outputs": [],
   "source": [
    "@typecheck(int, int, int)\n",
    "def sum(a, b, c):\n",
    "    return a + b + c"
   ]
  },
  {
   "cell_type": "code",
   "execution_count": 39,
   "metadata": {},
   "outputs": [
    {
     "data": {
      "text/plain": [
       "6"
      ]
     },
     "execution_count": 39,
     "metadata": {},
     "output_type": "execute_result"
    }
   ],
   "source": [
    "sum(1, 2, 3)"
   ]
  },
  {
   "cell_type": "markdown",
   "metadata": {},
   "source": [
    "## 4-2  최상위 테코레이터 함수에 인자를 받아서 처리합니다."
   ]
  },
  {
   "cell_type": "code",
   "execution_count": 40,
   "metadata": {},
   "outputs": [],
   "source": [
    "## 키워드인자들도 반응하도록 \n",
    "\n",
    "def typecheck_1(*t_args, **t_kwargs):# t_args\n",
    "    def outer(func):\n",
    "        def inner(*args, **kwargs):\n",
    "            # 위치인자 검증\n",
    "            for i, t_arg in enumerate(t_args):\n",
    "                if t_arg != type(args[i]):\n",
    "                    raise TypeError(\"정확하지 않은 타입입니다.\")\n",
    "                    \n",
    "            # 키워드인자 검증\n",
    "            for key in t_kwargs:\n",
    "                if t_kwargs[key] != kwargs[key].__class__:\n",
    "                    raise TypeError(\"정확하지 않은 타입입니다.\")\n",
    "            \n",
    "            return func(*args, **kwargs)\n",
    "        return inner\n",
    "    return outer"
   ]
  },
  {
   "cell_type": "code",
   "execution_count": 41,
   "metadata": {},
   "outputs": [],
   "source": [
    "@typecheck_1(a=int, b=int, c=int)\n",
    "def sum(a, b, c):\n",
    "    return a + b + c"
   ]
  },
  {
   "cell_type": "code",
   "execution_count": 42,
   "metadata": {},
   "outputs": [
    {
     "data": {
      "text/plain": [
       "8"
      ]
     },
     "execution_count": 42,
     "metadata": {},
     "output_type": "execute_result"
    }
   ],
   "source": [
    "sum(a=3, b=2, c=3)"
   ]
  },
  {
   "cell_type": "code",
   "execution_count": null,
   "metadata": {},
   "outputs": [],
   "source": []
  },
  {
   "cell_type": "code",
   "execution_count": null,
   "metadata": {},
   "outputs": [],
   "source": []
  }
 ],
 "metadata": {
  "kernelspec": {
   "display_name": "Python 3 (ipykernel)",
   "language": "python",
   "name": "python3"
  },
  "language_info": {
   "codemirror_mode": {
    "name": "ipython",
    "version": 3
   },
   "file_extension": ".py",
   "mimetype": "text/x-python",
   "name": "python",
   "nbconvert_exporter": "python",
   "pygments_lexer": "ipython3",
   "version": "3.11.3"
  }
 },
 "nbformat": 4,
 "nbformat_minor": 2
}
