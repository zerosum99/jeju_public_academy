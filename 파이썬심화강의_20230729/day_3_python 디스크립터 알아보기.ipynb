{
 "cells": [
  {
   "cell_type": "code",
   "execution_count": 1,
   "metadata": {},
   "outputs": [
    {
     "name": "stdout",
     "output_type": "stream",
     "text": [
      "3.11.3 | packaged by conda-forge | (main, Apr  6 2023, 08:58:31) [Clang 14.0.6 ]\n"
     ]
    }
   ],
   "source": [
    "import sys\n",
    "\n",
    "print(sys.version)"
   ]
  },
  {
   "cell_type": "code",
   "execution_count": null,
   "metadata": {},
   "outputs": [],
   "source": []
  },
  {
   "cell_type": "markdown",
   "metadata": {},
   "source": [
    "#  디스크립터란 (Descriptor)\n",
    "\n",
    "- 클래스에서 속성(attribute)의 접근, 할당, 삭제 등을 제어하는 프로토콜입니다. \n",
    "- 디스크립터를 사용하면 속성에 대한 동작을 커스터마이즈하거나 제한할 수 있습니다.\n",
    "\n",
    "###  클래스의 속성을 보호하기 위해 만드는 특별한 클래스이다.\n",
    "- 디스크립터로 만드는 속성을 보호 속성으로 만든다.\n",
    "- 속성에 대한 접근을 이름으로 조회하고 갱신할 수 있다.\n",
    "\n",
    "### 기본 프로토콜 규약에서는 3가지가 있다.\n",
    "\n",
    "> `__get__`, `__set__`, `__delete__` 중 하나가 구현되어 있는 클래스를 디스크립터 클래스\n",
    "\n",
    "> `__set_name__` 변수의 이름을 읽어서 처리하는 속성 "
   ]
  },
  {
   "cell_type": "code",
   "execution_count": null,
   "metadata": {},
   "outputs": [],
   "source": []
  },
  {
   "cell_type": "markdown",
   "metadata": {},
   "source": [
    "# 1.  디스크립터를 만들고 내부 인스턴스에 속성 넣기"
   ]
  },
  {
   "cell_type": "markdown",
   "metadata": {},
   "source": [
    "## 1-1 디스크립터 클래스 정의\n",
    "\n",
    "- 디스크립터 객체를 생성할 때 값을 관리하는 필드와 이 속성을 처리하는 3개의 메소드를 정의한다.\n",
    "- 값 저장은 일단 디스크립터 객체에 만들어서 보관하는 것부터 알아본다.\n"
   ]
  },
  {
   "cell_type": "markdown",
   "metadata": {},
   "source": [
    "### 디스크립트 클래스 정의\n",
    "\n",
    "- get, set, delete 메서드 정의\n",
    "- init에 디스크립트 객체에 값을 생성 "
   ]
  },
  {
   "cell_type": "code",
   "execution_count": 58,
   "metadata": {},
   "outputs": [],
   "source": [
    "class Descriptor:\n",
    "    \n",
    "    def __set_name__(self, owner, name ):\n",
    "        self.name = \"_\"+ name\n",
    "        \n",
    "    def __get__(self, instance, owner):\n",
    "        print('get', instance)\n",
    "        return instance.__dict__.setdefault(self.name,0) \n",
    "    \n",
    "    def __set__(self, instance, value):\n",
    "        print('set')\n",
    "        instance.__dict__[self.name] = value"
   ]
  },
  {
   "cell_type": "markdown",
   "metadata": {},
   "source": [
    "## 1-2 사용자 정의 클래스에 디스크립트 사용하기 \n",
    "\n",
    "\n",
    "###  디스크립트 객체는 반드시 클래스 속성에 할당 \n",
    "\n",
    "- 디스크립터 객체는 반드시 클래스 속성으로 정의한다. \n"
   ]
  },
  {
   "cell_type": "code",
   "execution_count": 59,
   "metadata": {},
   "outputs": [],
   "source": [
    "class A:\n",
    "    value = Descriptor()      # instance\n",
    "    value1 = Descriptor()     # instance\n",
    "    \n",
    "    def __init__(self, value=10, value1=10) :\n",
    "        self.value = value                       # 객체 속성이 생기지 않고 디스크립터 객체를 먼저 접근\n",
    "        self.value1 = value1                     # 그래서 set 까지 지정된 디스크립터는 항상 먼저 접근이 된다 "
   ]
  },
  {
   "cell_type": "markdown",
   "metadata": {},
   "source": [
    "## 1-3  객체를 생성\n",
    "\n",
    "- 객체를 생성할 때 디스크립터 객체를 가진 속성의 값을 갱신한다.\n",
    "- 처음 지정한 값과 갱신하는 값이 동일하다.  \n"
   ]
  },
  {
   "cell_type": "code",
   "execution_count": 60,
   "metadata": {},
   "outputs": [
    {
     "name": "stdout",
     "output_type": "stream",
     "text": [
      "set\n",
      "set\n"
     ]
    }
   ],
   "source": [
    "a = A()"
   ]
  },
  {
   "cell_type": "markdown",
   "metadata": {},
   "source": [
    "### 실제 객체에는 아무 속성이 없다. "
   ]
  },
  {
   "cell_type": "code",
   "execution_count": 61,
   "metadata": {},
   "outputs": [
    {
     "data": {
      "text/plain": [
       "{'_value': 10, '_value1': 10}"
      ]
     },
     "execution_count": 61,
     "metadata": {},
     "output_type": "execute_result"
    }
   ],
   "source": [
    "a.__dict__"
   ]
  },
  {
   "cell_type": "code",
   "execution_count": null,
   "metadata": {},
   "outputs": [],
   "source": []
  },
  {
   "cell_type": "code",
   "execution_count": 62,
   "metadata": {},
   "outputs": [
    {
     "name": "stdout",
     "output_type": "stream",
     "text": [
      "get <__main__.A object at 0x107d1c650>\n",
      "get <__main__.A object at 0x107d1c650>\n"
     ]
    },
    {
     "data": {
      "text/plain": [
       "(10, 10)"
      ]
     },
     "execution_count": 62,
     "metadata": {},
     "output_type": "execute_result"
    }
   ],
   "source": [
    "a.value, a.value1"
   ]
  },
  {
   "cell_type": "code",
   "execution_count": null,
   "metadata": {},
   "outputs": [],
   "source": []
  },
  {
   "cell_type": "code",
   "execution_count": null,
   "metadata": {},
   "outputs": [],
   "source": []
  },
  {
   "cell_type": "markdown",
   "metadata": {},
   "source": [
    "## 2.   읽기 전용  디스크립터 \n"
   ]
  },
  {
   "cell_type": "markdown",
   "metadata": {},
   "source": [
    "### get 프로토콜만 정의하기 \n",
    "\n",
    "`__get__`  만 가진 디스크립터\n",
    "\n",
    "- 메인 클래스의 속성을 읽기 전용으로만 만들 수 있다."
   ]
  },
  {
   "cell_type": "code",
   "execution_count": 64,
   "metadata": {},
   "outputs": [],
   "source": [
    "class DescriptorReadOnly:\n",
    "    \n",
    "    def __set_name__(self, owner, name ):\n",
    "        self.name = \"_\"+ name\n",
    "        \n",
    "    def __get__(self, instance, owner):\n",
    "        print('get', instance)\n",
    "        return instance.__dict__.setdefault(self.name,0) \n",
    "    \n",
    "    def __set__(self, instance, value):\n",
    "        print('set')\n",
    "        ##instance.__dict__[self.name] = value\n",
    "        raise AttributeError(\"read only\")"
   ]
  },
  {
   "cell_type": "code",
   "execution_count": 65,
   "metadata": {},
   "outputs": [],
   "source": [
    "class A:\n",
    "    a = DescriptorReadOnly()\n",
    "    \n",
    "    def __init__(self,a) :\n",
    "        self.a = a"
   ]
  },
  {
   "cell_type": "code",
   "execution_count": 68,
   "metadata": {},
   "outputs": [
    {
     "name": "stdout",
     "output_type": "stream",
     "text": [
      "set\n",
      "read only\n"
     ]
    }
   ],
   "source": [
    "try : \n",
    "    a = A(100)\n",
    "except Exception as e :\n",
    "    print(e)"
   ]
  },
  {
   "cell_type": "code",
   "execution_count": null,
   "metadata": {},
   "outputs": [],
   "source": []
  },
  {
   "cell_type": "markdown",
   "metadata": {},
   "source": [
    "## 3. 구버전  디스크립터 처리 "
   ]
  },
  {
   "cell_type": "markdown",
   "metadata": {},
   "source": [
    "### 디스크립터 객체 생성\n",
    "\n",
    "- 객체 생성자에 인스턴스 객체에 저장될 이름을 지정\n",
    "- 조회와 갱신을 인스턴스 객체의 속성을 접근해서 처리하도록 수정 "
   ]
  },
  {
   "cell_type": "code",
   "execution_count": 69,
   "metadata": {},
   "outputs": [],
   "source": [
    "class descriptor1:\n",
    "    \n",
    "    def __init__(self, name):\n",
    "        self.name = \"_\" + name \n",
    "        \n",
    "    def __get__(self, instance, owner):\n",
    "        print('get', instance)\n",
    "        return instance.__dict__.get(self.name,0) \n",
    "    \n",
    "    def __set__(self, instance, value):\n",
    "        print('set')\n",
    "        instance.__dict__[self.name] = value\n",
    "\n"
   ]
  },
  {
   "cell_type": "markdown",
   "metadata": {},
   "source": [
    "### 실제 사용 클래스 정의 "
   ]
  },
  {
   "cell_type": "code",
   "execution_count": 70,
   "metadata": {},
   "outputs": [],
   "source": [
    "class AA:\n",
    "    x = descriptor1('x')"
   ]
  },
  {
   "cell_type": "markdown",
   "metadata": {},
   "source": [
    "### 객체 생성하기 "
   ]
  },
  {
   "cell_type": "code",
   "execution_count": 71,
   "metadata": {},
   "outputs": [],
   "source": [
    "aa = AA()"
   ]
  },
  {
   "cell_type": "markdown",
   "metadata": {},
   "source": [
    "### 객체의 속성 조회하기\n",
    "\n",
    "- 현재 속성이 없지만 기본값으로 세팅"
   ]
  },
  {
   "cell_type": "code",
   "execution_count": 72,
   "metadata": {},
   "outputs": [
    {
     "name": "stdout",
     "output_type": "stream",
     "text": [
      "get <__main__.AA object at 0x107e8aad0>\n"
     ]
    },
    {
     "data": {
      "text/plain": [
       "0"
      ]
     },
     "execution_count": 72,
     "metadata": {},
     "output_type": "execute_result"
    }
   ],
   "source": [
    "aa.x"
   ]
  },
  {
   "cell_type": "markdown",
   "metadata": {},
   "source": [
    "### 속성의 값을 처음으로 입력"
   ]
  },
  {
   "cell_type": "code",
   "execution_count": 73,
   "metadata": {},
   "outputs": [
    {
     "name": "stdout",
     "output_type": "stream",
     "text": [
      "set\n"
     ]
    }
   ],
   "source": [
    "aa.x = 100"
   ]
  },
  {
   "cell_type": "code",
   "execution_count": 74,
   "metadata": {},
   "outputs": [
    {
     "data": {
      "text/plain": [
       "{'_x': 100}"
      ]
     },
     "execution_count": 74,
     "metadata": {},
     "output_type": "execute_result"
    }
   ],
   "source": [
    "aa.__dict__"
   ]
  },
  {
   "cell_type": "code",
   "execution_count": 75,
   "metadata": {},
   "outputs": [
    {
     "name": "stdout",
     "output_type": "stream",
     "text": [
      "get <__main__.AA object at 0x107e8aad0>\n"
     ]
    },
    {
     "data": {
      "text/plain": [
       "100"
      ]
     },
     "execution_count": 75,
     "metadata": {},
     "output_type": "execute_result"
    }
   ],
   "source": [
    "aa.x"
   ]
  },
  {
   "cell_type": "code",
   "execution_count": null,
   "metadata": {},
   "outputs": [],
   "source": []
  },
  {
   "cell_type": "code",
   "execution_count": null,
   "metadata": {},
   "outputs": [],
   "source": []
  },
  {
   "cell_type": "code",
   "execution_count": null,
   "metadata": {},
   "outputs": [],
   "source": []
  },
  {
   "cell_type": "markdown",
   "metadata": {},
   "source": [
    "## 4.  상속해서 디스크립터 사용하기 "
   ]
  },
  {
   "cell_type": "markdown",
   "metadata": {},
   "source": [
    "### 실제 자식 클래스에 디스크립터 속성 1개 정의\n",
    "- 수퍼 클래스의 생성자를 호출해서 2개의 값을 세팅 "
   ]
  },
  {
   "cell_type": "code",
   "execution_count": 76,
   "metadata": {},
   "outputs": [],
   "source": [
    "class AAA:\n",
    "    x = Descriptor()\n",
    "    y = Descriptor()\n",
    "    \n",
    "    def __init__(self, x,y) :\n",
    "        self.x = x\n",
    "        self.y = y"
   ]
  },
  {
   "cell_type": "code",
   "execution_count": 78,
   "metadata": {},
   "outputs": [],
   "source": [
    "class BBB(AAA) :\n",
    "    z = Descriptor()\n",
    "    def __init__(self,x,y,z) :\n",
    "        super().__init__(x,y)\n",
    "        self.z = z"
   ]
  },
  {
   "cell_type": "markdown",
   "metadata": {},
   "source": [
    "### 클래스 정보를 확인 "
   ]
  },
  {
   "cell_type": "code",
   "execution_count": 79,
   "metadata": {},
   "outputs": [
    {
     "data": {
      "text/plain": [
       "mappingproxy({'__module__': '__main__',\n",
       "              'z': <__main__.Descriptor at 0x107e3b290>,\n",
       "              '__init__': <function __main__.BBB.__init__(self, x, y, z)>,\n",
       "              '__doc__': None})"
      ]
     },
     "execution_count": 79,
     "metadata": {},
     "output_type": "execute_result"
    }
   ],
   "source": [
    "BBB.__dict__"
   ]
  },
  {
   "cell_type": "markdown",
   "metadata": {},
   "source": [
    "### 객체를 생성하기"
   ]
  },
  {
   "cell_type": "code",
   "execution_count": 80,
   "metadata": {},
   "outputs": [
    {
     "name": "stdout",
     "output_type": "stream",
     "text": [
      "set\n",
      "set\n",
      "set\n"
     ]
    }
   ],
   "source": [
    "bbb = BBB(10,20,30)"
   ]
  },
  {
   "cell_type": "markdown",
   "metadata": {},
   "source": [
    "### 속성을 확인하기 "
   ]
  },
  {
   "cell_type": "code",
   "execution_count": 81,
   "metadata": {},
   "outputs": [
    {
     "name": "stdout",
     "output_type": "stream",
     "text": [
      "get <__main__.BBB object at 0x107e40610>\n",
      "get <__main__.BBB object at 0x107e40610>\n",
      "get <__main__.BBB object at 0x107e40610>\n"
     ]
    },
    {
     "data": {
      "text/plain": [
       "(10, 20, 30)"
      ]
     },
     "execution_count": 81,
     "metadata": {},
     "output_type": "execute_result"
    }
   ],
   "source": [
    "bbb.x, bbb.y, bbb.z"
   ]
  },
  {
   "cell_type": "code",
   "execution_count": null,
   "metadata": {},
   "outputs": [],
   "source": []
  },
  {
   "cell_type": "markdown",
   "metadata": {},
   "source": [
    "## 5.  함수를 저장해서 처리하는 디스크립터 만들기 \n",
    "\n",
    "- 디스크립터 클래스를 만들고 데코레이터를 처리할 수 있다.\n",
    "- 이름으로 접근하면 내부으 함수가 실행된다.\n"
   ]
  },
  {
   "cell_type": "markdown",
   "metadata": {},
   "source": [
    "### 디스크립터 조회할 때 저장된 함수를 반환한다"
   ]
  },
  {
   "cell_type": "code",
   "execution_count": 68,
   "metadata": {},
   "outputs": [],
   "source": [
    "class descriptor:\n",
    "    def __init__(self, func):\n",
    "        self.func = func\n",
    "        \n",
    "    def __get__(self, instance, owner):\n",
    "        print(\"get\")\n",
    "        return self.func(instance) # 메소드는 첫번째 인자로 self 자기자신을 받아야되기 때문에"
   ]
  },
  {
   "cell_type": "markdown",
   "metadata": {},
   "source": [
    "### 디스크립터로 메소드를 데코레이터 처리한다."
   ]
  },
  {
   "cell_type": "code",
   "execution_count": 69,
   "metadata": {},
   "outputs": [],
   "source": [
    "class A:\n",
    "    def __init__(self, a, b, c):\n",
    "        self.a = a\n",
    "        self.b = b\n",
    "        self.c = c\n",
    "    \n",
    "    @descriptor\n",
    "    def func(self):\n",
    "        return self.a + self.b + self.c\n"
   ]
  },
  {
   "cell_type": "code",
   "execution_count": 70,
   "metadata": {},
   "outputs": [],
   "source": [
    "a = A(1, 2, 3)"
   ]
  },
  {
   "cell_type": "code",
   "execution_count": 71,
   "metadata": {},
   "outputs": [
    {
     "name": "stdout",
     "output_type": "stream",
     "text": [
      "get\n"
     ]
    },
    {
     "data": {
      "text/plain": [
       "6"
      ]
     },
     "execution_count": 71,
     "metadata": {},
     "output_type": "execute_result"
    }
   ],
   "source": [
    "a.func # __call__ X"
   ]
  },
  {
   "cell_type": "markdown",
   "metadata": {},
   "source": [
    "### 함수의 인자를 받도록 수정\n",
    "\n",
    "- 부분 함수 처리를 위해 pattial 로 처리한다. \n",
    "- 이름으로 조회하면 부분함수가 반환되고 메소드의 인자를 추가적으로 넣어서 처리할 수 있다"
   ]
  },
  {
   "cell_type": "code",
   "execution_count": 72,
   "metadata": {},
   "outputs": [],
   "source": [
    "from functools import partial\n",
    "\n",
    "\n",
    "class descriptor:\n",
    "    def __init__(self, func):\n",
    "        self.func = func\n",
    "        \n",
    "    def __get__(self, instance, owner):\n",
    "        print('get')\n",
    "        return partial(self.func, instance)"
   ]
  },
  {
   "cell_type": "code",
   "execution_count": 73,
   "metadata": {},
   "outputs": [],
   "source": [
    "class A:\n",
    "    @descriptor\n",
    "    def func(self, a, b, c):\n",
    "        return a + b + c"
   ]
  },
  {
   "cell_type": "code",
   "execution_count": 74,
   "metadata": {},
   "outputs": [],
   "source": [
    "a = A()"
   ]
  },
  {
   "cell_type": "code",
   "execution_count": 75,
   "metadata": {},
   "outputs": [
    {
     "name": "stdout",
     "output_type": "stream",
     "text": [
      "get\n"
     ]
    },
    {
     "data": {
      "text/plain": [
       "6"
      ]
     },
     "execution_count": 75,
     "metadata": {},
     "output_type": "execute_result"
    }
   ],
   "source": [
    "a.func(1, 2, 3)"
   ]
  },
  {
   "cell_type": "code",
   "execution_count": null,
   "metadata": {},
   "outputs": [],
   "source": []
  }
 ],
 "metadata": {
  "kernelspec": {
   "display_name": "Python 3 (ipykernel)",
   "language": "python",
   "name": "python3"
  },
  "language_info": {
   "codemirror_mode": {
    "name": "ipython",
    "version": 3
   },
   "file_extension": ".py",
   "mimetype": "text/x-python",
   "name": "python",
   "nbconvert_exporter": "python",
   "pygments_lexer": "ipython3",
   "version": "3.11.3"
  }
 },
 "nbformat": 4,
 "nbformat_minor": 2
}
